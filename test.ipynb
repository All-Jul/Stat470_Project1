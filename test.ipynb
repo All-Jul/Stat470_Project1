{
 "cells": [
  {
   "cell_type": "code",
   "execution_count": null,
   "metadata": {
    "vscode": {
     "languageId": "plaintext"
    }
   },
   "outputs": [],
   "source": [
    "library(readxl)\n",
    "\n",
    "library(dplyr)\n",
    "library(plyr)\n",
    "rm(list = ls())\n",
    "path_to_file <- \"/Users/allan/Downloads/PenguinDataSP25.xlsx\"\n",
    "PenguinData <- subset(read_excel(path_to_file, skip = 5) %>% filter(row_number() <= n()-4), select = -c(sampleID, scientific, health_metrics)) %>% filter(life_stage == 'adult' & body_mass != 0)\n",
    "PenguinData <- subset(PenguinData, select = -c(life_stage))\n",
    "PenguinData$species <- revalue(PenguinData$species, c('adelie'= 'Adelie'))\n",
    "PenguinData"
   ]
  }
 ],
 "metadata": {
  "language_info": {
   "name": "python"
  }
 },
 "nbformat": 4,
 "nbformat_minor": 2
}
